{
 "cells": [
  {
   "cell_type": "markdown",
   "metadata": {},
   "source": [
    "# ensure_annotation decorator"
   ]
  },
  {
   "cell_type": "code",
   "execution_count": 13,
   "metadata": {},
   "outputs": [],
   "source": [
    "##This ensure python package is not a official pyhton package but created by some 3rd party which we are\n",
    "##installing and using directly from pypi repo\n",
    "\n",
    "from ensure import ensure_annotations"
   ]
  },
  {
   "cell_type": "code",
   "execution_count": 14,
   "metadata": {},
   "outputs": [],
   "source": [
    "## Defining function without using decorating ensure_annotations\n",
    "\n",
    "##here we are just making this function more interpretable or readable\n",
    "##type of variables a & b is int and function add_number will return\n",
    "##a value of return type int \n",
    "\n",
    "def mul_number(a:int,b:int)->int:    \n",
    "    return a * b"
   ]
  },
  {
   "cell_type": "code",
   "execution_count": 15,
   "metadata": {},
   "outputs": [
    {
     "data": {
      "text/plain": [
       "2"
      ]
     },
     "execution_count": 15,
     "metadata": {},
     "output_type": "execute_result"
    }
   ],
   "source": [
    "mul_number(1,2)\n",
    "##Observe here that we are here when we are passing the values which are of same type as we mentioned\n",
    "##above we are getting the summation"
   ]
  },
  {
   "cell_type": "code",
   "execution_count": 16,
   "metadata": {},
   "outputs": [
    {
     "data": {
      "text/plain": [
       "'ShuklaShuklaShuklaShuklaShukla'"
      ]
     },
     "execution_count": 16,
     "metadata": {},
     "output_type": "execute_result"
    }
   ],
   "source": [
    "mul_number(\"Shukla\",5)\n",
    "##But observe here that when we are changing the type of first variable to str which is different\n",
    "##than what we defined (a:int) still multiplication is happening. Which is wrong ideally it should raise\n",
    "##an error since type does not matches to what we have defined. This is the reason why we use or decorate\n",
    "##our functions using ensure_ennotations so that to through an error when there is a type miss match."
   ]
  },
  {
   "cell_type": "code",
   "execution_count": 17,
   "metadata": {},
   "outputs": [],
   "source": [
    "## Defining function using decorating ensure_annotations\n",
    "\n",
    "@ensure_annotations\n",
    "def mul_number(a:int,b:int)->int:    \n",
    "    return a * b"
   ]
  },
  {
   "cell_type": "code",
   "execution_count": 18,
   "metadata": {},
   "outputs": [
    {
     "data": {
      "text/plain": [
       "2"
      ]
     },
     "execution_count": 18,
     "metadata": {},
     "output_type": "execute_result"
    }
   ],
   "source": [
    "mul_number(1,2)"
   ]
  },
  {
   "cell_type": "code",
   "execution_count": 19,
   "metadata": {},
   "outputs": [
    {
     "ename": "EnsureError",
     "evalue": "Argument a of type <class 'str'> to <function mul_number at 0x000002345D8C0040> does not match annotation type <class 'int'>",
     "output_type": "error",
     "traceback": [
      "\u001b[1;31m---------------------------------------------------------------------------\u001b[0m",
      "\u001b[1;31mEnsureError\u001b[0m                               Traceback (most recent call last)",
      "\u001b[1;32mc:\\DS_project\\CNN-CLASSIFIER\\research\\trials.ipynb Cell 8\u001b[0m line \u001b[0;36m1\n\u001b[1;32m----> <a href='vscode-notebook-cell:/c%3A/DS_project/CNN-CLASSIFIER/research/trials.ipynb#X10sZmlsZQ%3D%3D?line=0'>1</a>\u001b[0m mul_number(\u001b[39m\"\u001b[39;49m\u001b[39mShukla\u001b[39;49m\u001b[39m\"\u001b[39;49m,\u001b[39m5\u001b[39;49m)\n\u001b[0;32m      <a href='vscode-notebook-cell:/c%3A/DS_project/CNN-CLASSIFIER/research/trials.ipynb#X10sZmlsZQ%3D%3D?line=2'>3</a>\u001b[0m \u001b[39m##Notice below that after decorating we are now getting Ensure error. This helps to debug the error more\u001b[39;00m\n\u001b[0;32m      <a href='vscode-notebook-cell:/c%3A/DS_project/CNN-CLASSIFIER/research/trials.ipynb#X10sZmlsZQ%3D%3D?line=3'>4</a>\u001b[0m \u001b[39m##easily\u001b[39;00m\n",
      "File \u001b[1;32mc:\\DS_project\\CNN-CLASSIFIER\\env\\lib\\site-packages\\ensure\\main.py:845\u001b[0m, in \u001b[0;36mWrappedFunctionReturn.__call__\u001b[1;34m(self, *args, **kwargs)\u001b[0m\n\u001b[0;32m    840\u001b[0m     \u001b[39mif\u001b[39;00m \u001b[39mnot\u001b[39;00m \u001b[39misinstance\u001b[39m(value, templ):\n\u001b[0;32m    841\u001b[0m         msg \u001b[39m=\u001b[39m (\n\u001b[0;32m    842\u001b[0m             \u001b[39m\"\u001b[39m\u001b[39mArgument \u001b[39m\u001b[39m{arg}\u001b[39;00m\u001b[39m of type \u001b[39m\u001b[39m{valt}\u001b[39;00m\u001b[39m to \u001b[39m\u001b[39m{f}\u001b[39;00m\u001b[39m \u001b[39m\u001b[39m\"\u001b[39m\n\u001b[0;32m    843\u001b[0m             \u001b[39m\"\u001b[39m\u001b[39mdoes not match annotation type \u001b[39m\u001b[39m{t}\u001b[39;00m\u001b[39m\"\u001b[39m\n\u001b[0;32m    844\u001b[0m         )\n\u001b[1;32m--> 845\u001b[0m         \u001b[39mraise\u001b[39;00m EnsureError(msg\u001b[39m.\u001b[39mformat(\n\u001b[0;32m    846\u001b[0m             arg\u001b[39m=\u001b[39marg, f\u001b[39m=\u001b[39m\u001b[39mself\u001b[39m\u001b[39m.\u001b[39mf, t\u001b[39m=\u001b[39mtempl, valt\u001b[39m=\u001b[39m\u001b[39mtype\u001b[39m(value)\n\u001b[0;32m    847\u001b[0m         ))\n\u001b[0;32m    849\u001b[0m return_val \u001b[39m=\u001b[39m \u001b[39mself\u001b[39m\u001b[39m.\u001b[39mf(\u001b[39m*\u001b[39margs, \u001b[39m*\u001b[39m\u001b[39m*\u001b[39mkwargs)\n\u001b[0;32m    850\u001b[0m \u001b[39mif\u001b[39;00m \u001b[39mnot\u001b[39;00m \u001b[39misinstance\u001b[39m(return_val, \u001b[39mself\u001b[39m\u001b[39m.\u001b[39mreturn_templ):\n",
      "\u001b[1;31mEnsureError\u001b[0m: Argument a of type <class 'str'> to <function mul_number at 0x000002345D8C0040> does not match annotation type <class 'int'>"
     ]
    }
   ],
   "source": [
    "mul_number(\"Shukla\",5)\n",
    "\n",
    "##Notice below that after decorating we are now getting Ensure error. This helps to debug the error more\n",
    "##easily"
   ]
  },
  {
   "cell_type": "code",
   "execution_count": null,
   "metadata": {},
   "outputs": [],
   "source": []
  },
  {
   "cell_type": "markdown",
   "metadata": {},
   "source": [
    "# Reading YAML File\n",
    "# AND\n",
    "# Ques: Why it is important to convert the read yaml content from dict return type to ConfigBox return type?"
   ]
  },
  {
   "cell_type": "code",
   "execution_count": 20,
   "metadata": {},
   "outputs": [
    {
     "name": "stdout",
     "output_type": "stream",
     "text": [
      "{'artifacts_root': 'artifacts', 'data_ingestion': {'root_dir': 'artifacts/data_ingestion', 'source_URL': 'https://download.microsoft.com/download/3/E/1/3E1C3F21-ECDB-4869-8368-6DEBA77B919F/kagglecatsanddogs_5340.zip', 'local_data_file': 'artifacts/data_ingestion/data.zip', 'unzip_dir': 'artifacts/data_ingestion'}, 'prepare_base_model': {'root_dir': 'artifacts/prepare_base_model', 'base_model_path': 'artifacts/prepare_base_model/base_model.h5', 'updated_base_model_path': 'artifacts/prepare_base_model/base_model_updated.h5'}, 'training': {'root_dir': 'artifacts/training', 'trained_model_path': 'artifacts/training/model.h5'}}\n"
     ]
    },
    {
     "data": {
      "text/plain": [
       "dict"
      ]
     },
     "execution_count": 20,
     "metadata": {},
     "output_type": "execute_result"
    }
   ],
   "source": [
    "import yaml\n",
    "#from box import ConfigBox\n",
    "from pathlib import Path\n",
    "\n",
    "path_to_yaml = \"../configs/config.yaml\"\n",
    "with open(path_to_yaml) as yaml_file:\n",
    "    content=yaml.safe_load(yaml_file)\n",
    "    print(content)\n",
    "type(content)\n",
    "\n"
   ]
  },
  {
   "cell_type": "code",
   "execution_count": 21,
   "metadata": {},
   "outputs": [
    {
     "name": "stdout",
     "output_type": "stream",
     "text": [
      "{'artifacts_root': 'artifacts', 'data_ingestion': {'root_dir': 'artifacts/data_ingestion', 'source_URL': 'https://download.microsoft.com/download/3/E/1/3E1C3F21-ECDB-4869-8368-6DEBA77B919F/kagglecatsanddogs_5340.zip', 'local_data_file': 'artifacts/data_ingestion/data.zip', 'unzip_dir': 'artifacts/data_ingestion'}, 'prepare_base_model': {'root_dir': 'artifacts/prepare_base_model', 'base_model_path': 'artifacts/prepare_base_model/base_model.h5', 'updated_base_model_path': 'artifacts/prepare_base_model/base_model_updated.h5'}, 'training': {'root_dir': 'artifacts/training', 'trained_model_path': 'artifacts/training/model.h5'}}\n"
     ]
    },
    {
     "data": {
      "text/plain": [
       "box.config_box.ConfigBox"
      ]
     },
     "execution_count": 21,
     "metadata": {},
     "output_type": "execute_result"
    }
   ],
   "source": [
    "import yaml\n",
    "from box import ConfigBox\n",
    "from pathlib import Path\n",
    "\n",
    "path_to_yaml = \"../configs/config.yaml\"\n",
    "def read_yaml(path_to_yaml:Path)-> ConfigBox:\n",
    "    with open(path_to_yaml) as yaml_file:\n",
    "        content=yaml.safe_load(yaml_file)\n",
    "        return ConfigBox(content)\n",
    "\n",
    "res = read_yaml(path_to_yaml)\n",
    "print(res)\n",
    "\n",
    "type(res)\n",
    "\n"
   ]
  },
  {
   "cell_type": "code",
   "execution_count": 12,
   "metadata": {},
   "outputs": [
    {
     "ename": "AttributeError",
     "evalue": "'dict' object has no attribute 'artifacts_root'",
     "output_type": "error",
     "traceback": [
      "\u001b[1;31m---------------------------------------------------------------------------\u001b[0m",
      "\u001b[1;31mAttributeError\u001b[0m                            Traceback (most recent call last)",
      "\u001b[1;32mc:\\DS_project\\CNN-CLASSIFIER\\research\\trials.ipynb Cell 13\u001b[0m line \u001b[0;36m2\n\u001b[0;32m     <a href='vscode-notebook-cell:/c%3A/DS_project/CNN-CLASSIFIER/research/trials.ipynb#X21sZmlsZQ%3D%3D?line=16'>17</a>\u001b[0m         \u001b[39mprint\u001b[39m(root_dir)\n\u001b[0;32m     <a href='vscode-notebook-cell:/c%3A/DS_project/CNN-CLASSIFIER/research/trials.ipynb#X21sZmlsZQ%3D%3D?line=18'>19</a>\u001b[0m obj \u001b[39m=\u001b[39m abc()\n\u001b[1;32m---> <a href='vscode-notebook-cell:/c%3A/DS_project/CNN-CLASSIFIER/research/trials.ipynb#X21sZmlsZQ%3D%3D?line=19'>20</a>\u001b[0m obj\u001b[39m.\u001b[39;49mwrited()\n",
      "\u001b[1;32mc:\\DS_project\\CNN-CLASSIFIER\\research\\trials.ipynb Cell 13\u001b[0m line \u001b[0;36m1\n\u001b[0;32m     <a href='vscode-notebook-cell:/c%3A/DS_project/CNN-CLASSIFIER/research/trials.ipynb#X21sZmlsZQ%3D%3D?line=14'>15</a>\u001b[0m \u001b[39mdef\u001b[39;00m \u001b[39mwrited\u001b[39m(\u001b[39mself\u001b[39m):\n\u001b[1;32m---> <a href='vscode-notebook-cell:/c%3A/DS_project/CNN-CLASSIFIER/research/trials.ipynb#X21sZmlsZQ%3D%3D?line=15'>16</a>\u001b[0m     root_dir \u001b[39m=\u001b[39m \u001b[39mself\u001b[39;49m\u001b[39m.\u001b[39;49mconfig\u001b[39m.\u001b[39;49martifacts_root\n\u001b[0;32m     <a href='vscode-notebook-cell:/c%3A/DS_project/CNN-CLASSIFIER/research/trials.ipynb#X21sZmlsZQ%3D%3D?line=16'>17</a>\u001b[0m     \u001b[39mprint\u001b[39m(root_dir)\n",
      "\u001b[1;31mAttributeError\u001b[0m: 'dict' object has no attribute 'artifacts_root'"
     ]
    }
   ],
   "source": [
    "import yaml\n",
    "from box import ConfigBox\n",
    "from pathlib import Path\n",
    "\n",
    "path_to_yaml = \"../configs/config.yaml\"\n",
    "def read_yaml(path_to_yaml:Path):\n",
    "    with open(path_to_yaml) as yaml_file:\n",
    "        content=yaml.safe_load(yaml_file)\n",
    "        return (content)\n",
    "\n",
    "class abc:\n",
    "    def __init__(self, config_path = \"../configs/config.yaml\"):\n",
    "        self.config = read_yaml(config_path)\n",
    "        \n",
    "    def writed(self):\n",
    "        root_dir = self.config.artifacts_root\n",
    "        print(root_dir)\n",
    "\n",
    "obj = abc()\n",
    "obj.writed()"
   ]
  },
  {
   "cell_type": "code",
   "execution_count": 11,
   "metadata": {},
   "outputs": [
    {
     "name": "stdout",
     "output_type": "stream",
     "text": [
      "artifacts\n"
     ]
    }
   ],
   "source": [
    "import yaml\n",
    "from box import ConfigBox\n",
    "from pathlib import Path\n",
    "\n",
    "path_to_yaml = \"../configs/config.yaml\"\n",
    "def read_yaml(path_to_yaml:Path)-> ConfigBox:\n",
    "    with open(path_to_yaml) as yaml_file:\n",
    "        content=yaml.safe_load(yaml_file)\n",
    "        return ConfigBox(content)\n",
    "\n",
    "class abc:\n",
    "    def __init__(self, config_path = \"../configs/config.yaml\"):\n",
    "        self.config = read_yaml(config_path)\n",
    "        \n",
    "    def writed(self):\n",
    "        root_dir = self.config.artifacts_root\n",
    "        print(root_dir)\n",
    "\n",
    "obj = abc()\n",
    "obj.writed()\n"
   ]
  },
  {
   "cell_type": "markdown",
   "metadata": {},
   "source": [
    "From above it is clear that why we are converting the read yaml content from dict return type to ConfigBox return type. This is because in modular coding when we are going to access the yaml content element we won't be able to do that if it is returned as dict since we will be getting the attribute error. This is the reason why we are returning it as configbox which will be not giving us any error...\n"
   ]
  },
  {
   "cell_type": "markdown",
   "metadata": {},
   "source": [
    "# Saving dict into a .json file"
   ]
  },
  {
   "cell_type": "code",
   "execution_count": 9,
   "metadata": {},
   "outputs": [],
   "source": [
    "import json\n",
    "import os\n",
    "from pathlib import Path\n",
    "\n",
    "def save_json(path:Path, data:dict):\n",
    "    filedir,filename=os.path.split(path)\n",
    "\n",
    "    if filedir !=\"\":\n",
    "        os.makedirs(filedir,exist_ok=True)\n",
    "    else:\n",
    "        pass\n",
    "\n",
    "    # Convert and write JSON object to file\n",
    "    with open(path, \"w\") as outfile: \n",
    "        json.dump(data, outfile)\n",
    "\n",
    "##Creating a dummy dict\n",
    "data = {'Person 1': 'Seemanshu Shukla', 'Person 2': 'Kajol Shukla'}\n",
    "path = Path(\"sample.json\")\n",
    "save_json(path,data)"
   ]
  },
  {
   "cell_type": "code",
   "execution_count": 7,
   "metadata": {},
   "outputs": [],
   "source": []
  },
  {
   "cell_type": "code",
   "execution_count": null,
   "metadata": {},
   "outputs": [],
   "source": []
  }
 ],
 "metadata": {
  "kernelspec": {
   "display_name": "Python 3",
   "language": "python",
   "name": "python3"
  },
  "language_info": {
   "codemirror_mode": {
    "name": "ipython",
    "version": 3
   },
   "file_extension": ".py",
   "mimetype": "text/x-python",
   "name": "python",
   "nbconvert_exporter": "python",
   "pygments_lexer": "ipython3",
   "version": "3.8.18"
  },
  "orig_nbformat": 4
 },
 "nbformat": 4,
 "nbformat_minor": 2
}
